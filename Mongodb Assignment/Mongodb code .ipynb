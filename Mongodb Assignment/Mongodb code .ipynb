{
 "cells": [
  {
   "cell_type": "code",
   "execution_count": 1,
   "metadata": {},
   "outputs": [],
   "source": [
    "import pymongo\n"
   ]
  },
  {
   "cell_type": "code",
   "execution_count": 4,
   "metadata": {},
   "outputs": [],
   "source": [
    "#pip install pymongo"
   ]
  },
  {
   "cell_type": "code",
   "execution_count": 5,
   "metadata": {},
   "outputs": [],
   "source": [
    "import pymongo\n"
   ]
  },
  {
   "cell_type": "code",
   "execution_count": 6,
   "metadata": {},
   "outputs": [
    {
     "name": "stdout",
     "output_type": "stream",
     "text": [
      "Requirement already satisfied: pymongo in c:\\users\\meekun\\anaconda3\\lib\\site-packages (3.11.3)\n",
      "Note: you may need to restart the kernel to use updated packages.\n"
     ]
    }
   ],
   "source": [
    "pip install pymongo\n"
   ]
  },
  {
   "cell_type": "code",
   "execution_count": 7,
   "metadata": {},
   "outputs": [],
   "source": [
    "import pymongo"
   ]
  },
  {
   "cell_type": "code",
   "execution_count": 10,
   "metadata": {},
   "outputs": [],
   "source": [
    "myclient = pymongo.MongoClient(\"mongodb://assignmentpoulationmongodb:p111eRZSxskCe1ck3en3cvMJU01KCL9PzZp2nSwXbTJwVJ1CGw1Sb2gPIFRUOEJ45gUcn0rKiQjPool563OCqQ==@assignmentpoulationmongodb.mongo.cosmos.azure.com:10255/?ssl=true&replicaSet=globaldb&retrywrites=false&maxIdleTimeMS=120000&appName=@assignmentpoulationmongodb@\")\n"
   ]
  },
  {
   "cell_type": "code",
   "execution_count": 11,
   "metadata": {},
   "outputs": [],
   "source": [
    "from pymongo import MongoClient\n",
    "Client = MongoClient()"
   ]
  },
  {
   "cell_type": "code",
   "execution_count": 12,
   "metadata": {},
   "outputs": [],
   "source": [
    "#client = pymongo.MongoClient(\"mongodb://assignmentpoulationmongodb:p111eRZSxskCe1ck3en3cvMJU01KCL9PzZp2nSwXbTJwVJ1CGw1Sb2gPIFRUOEJ45gUcn0rKiQjPool563OCqQ==@assignmentpoulationmongodb.mongo.cosmos.azure.com:10255/?ssl=true&replicaSet=globaldb&retrywrites=false&maxIdleTimeMS=120000&appName=@assignmentpoulationmongodb@\")\n",
    "#mydb = client[\"population2014\"]\n",
    "#col = mydb[\"age\"]\n",
    "#x = col.find_one()\n",
    "\n",
    "#print(x)\n",
    "\n",
    "#x = col.find()\n",
    "\n",
    "#print(x)\n",
    "\n",
    "\n",
    "\n",
    "#for x in col.find({},{\"_id\": 0, \"age\":1, \"male\":1, \"female\":1, \" totpopulation\": 1 }):\n",
    "    \n",
    " #   print(x)"
   ]
  },
  {
   "cell_type": "code",
   "execution_count": 13,
   "metadata": {},
   "outputs": [
    {
     "name": "stdout",
     "output_type": "stream",
     "text": [
      "[ObjectId('604759852f1814c0ec3b37aa'), ObjectId('604759852f1814c0ec3b37ab'), ObjectId('604759852f1814c0ec3b37ac'), ObjectId('604759852f1814c0ec3b37ad'), ObjectId('604759852f1814c0ec3b37ae'), ObjectId('604759852f1814c0ec3b37af'), ObjectId('604759852f1814c0ec3b37b0'), ObjectId('604759852f1814c0ec3b37b1'), ObjectId('604759852f1814c0ec3b37b2'), ObjectId('604759852f1814c0ec3b37b3'), ObjectId('604759852f1814c0ec3b37b4'), ObjectId('604759852f1814c0ec3b37b5'), ObjectId('604759852f1814c0ec3b37b6'), ObjectId('604759852f1814c0ec3b37b7'), ObjectId('604759852f1814c0ec3b37b8'), ObjectId('604759852f1814c0ec3b37b9'), ObjectId('604759852f1814c0ec3b37ba'), ObjectId('604759852f1814c0ec3b37bb'), ObjectId('604759852f1814c0ec3b37bc'), ObjectId('604759852f1814c0ec3b37bd'), ObjectId('604759852f1814c0ec3b37be')]\n"
     ]
    }
   ],
   "source": [
    "client = pymongo.MongoClient(\"mongodb://assignmentpoulationmongodb:p111eRZSxskCe1ck3en3cvMJU01KCL9PzZp2nSwXbTJwVJ1CGw1Sb2gPIFRUOEJ45gUcn0rKiQjPool563OCqQ==@assignmentpoulationmongodb.mongo.cosmos.azure.com:10255/?ssl=true&replicaSet=globaldb&retrywrites=false&maxIdleTimeMS=120000&appName=@assignmentpoulationmongodb@\")\n",
    "mydb = client[\"population2014\"]\n",
    "col = mydb[\"age\"]\n",
    "mylist = [\n",
    "    { \"age\": \"0-4\" , \"male\":\"15590201\", \"female\":\"14888440\", \"totpopulation\": \"30478641\" },\n",
    "    { \"age\": \"05-9\" , \"male\":\"13162201\", \"female\":\"12620847\", \"totpopulation\": \"25783048\" },\n",
    "    { \"age\": \"10-14\" , \"male\":\"11057669\", \"female\":\"10650088\", \"totpopulation\": \"21707757\" },\n",
    "    { \"age\": \"15-19\" , \"male\":\"9170973\", \"female\":\"8885263\", \"totpopulation\": \"18056236\" },\n",
    "    { \"age\": \"20-24\" , \"male\":\"7750154\", \"female\":\"7533403\", \"totpopulation\": \"15283557\" },\n",
    "    { \"age\": \"25-29\" , \"male\":\"6744410\", \"female\":\"6547312\", \"totpopulation\": \"13291722\" },\n",
    "    { \"age\": \"30-34\" , \"male\":\"5845208\", \"female\":\"5665744\", \"totpopulation\": \"11510952\" },\n",
    "    { \"age\": \"35-39\" , \"male\":\"4849975\", \"female\":\"4718575\", \"totpopulation\": \"9568550\" },\n",
    "    { \"age\": \"40-44\" , \"male\":\"3871006\", \"female\":\"3802113\", \"totpopulation\": \"7673119\" },\n",
    "    { \"age\": \"45-49\" , \"male\":\"3054542\", \"female\":\"3063000\", \"totpopulation\": \"6117542\" },\n",
    "    { \"age\": \"50-54\" , \"male\":\"2482351\", \"female\":\"2537887\", \"totpopulation\": \"5020238\" },\n",
    "    { \"age\": \"55-59\" , \"male\":\"1949536\", \"female\":\"2050893\", \"totpopulation\": \"4000429\" },\n",
    "    { \"age\": \"60-64\" , \"male\":\"1467808\", \"female\":\"1594117\", \"totpopulation\": \"3061925\" },\n",
    "    { \"age\": \"65-69\" , \"male\":\"1096038\", \"female\":\"1180702\", \"totpopulation\": \"2276740\" },\n",
    "    { \"age\": \"70-74\" , \"male\":\"695186\", \"female\":\"766682\", \"totpopulation\": \"1461868\" },\n",
    "    { \"age\": \"75-79\" , \"male\":\"349276\", \"female\":\"396696\", \"totpopulation\": \"745972\" },\n",
    "    { \"age\": \"80-84\" , \"male\":\"130558\", \"female\":\"151752\", \"totpopulation\": \"282310\" },\n",
    "    { \"age\": \"85-89\" , \"male\":\"32458\", \"female\":\"39165\", \"totpopulation\": \"71623\" },\n",
    "    { \"age\": \"90-94\" , \"male\":\"5006\", \"female\":\"6540\", \"totpopulation\": \"11546\" },\n",
    "    { \"age\": \"95-99\" , \"male\":\"474\", \"female\":\"675\", \"totpopulation\": \"1149\" },\n",
    "    { \"age\": \"100\" , \"male\":\"4\", \"female\":\"3\", \"totpopulation\": \"7\" },\n",
    "    \n",
    "    \n",
    "]\n",
    "\n",
    "x = col.insert_many(mylist)\n",
    "\n",
    "print(x.inserted_ids)\n"
   ]
  },
  {
   "cell_type": "code",
   "execution_count": null,
   "metadata": {},
   "outputs": [],
   "source": [
    "# importing Mongoclient from pymongo \n",
    "from pymongo import MongoClient  \n",
    "  \n",
    "  \n",
    "myclient = MongoClient(\"mongodb://assignmentpoulationmongodb:p111eRZSxskCe1ck3en3cvMJU01KCL9PzZp2nSwXbTJwVJ1CGw1Sb2gPIFRUOEJ45gUcn0rKiQjPool563OCqQ==@assignmentpoulationmongodb.mongo.cosmos.azure.com:10255/?ssl=true&replicaSet=globaldb&retrywrites=false&maxIdleTimeMS=120000&appName=@assignmentpoulationmongodb@\"\") \n",
    "  \n",
    "# database  \n",
    "db = myclient[\"GFG\"] \n",
    "  \n",
    "# Created or Switched to collection  \n",
    "# names: GeeksForGeeks \n",
    "collection = db[\"Student\"] \n",
    "  \n",
    "# Creating a list of records which we  \n",
    "# insert in the collection using the \n",
    "# update_many() method. \n",
    "mylist = [ \n",
    "  { \"_id\": 1, \"name\": \"Vishwash\", \"Roll No\": \"1001\", \"Branch\":\"CSE\"}, \n",
    "  { \"_id\": 2, \"name\": \"Vishesh\", \"Roll No\": \"1002\", \"Branch\":\"IT\"}, \n",
    "  { \"_id\": 3, \"name\": \"Shivam\", \"Roll No\": \"1003\", \"Branch\":\"ME\"}, \n",
    "  { \"_id\": 4, \"name\": \"Yash\", \"Roll No\": \"1004\", \"Branch\":\"ECE\"}, \n",
    "] \n",
    "  \n",
    "# In the above list _id field is provided so it inserted in  \n",
    "# the collection as specified. \n",
    "  \n",
    "# Inseting the entire list in the collection \n",
    "collection.insert_many(mylist) "
   ]
  },
  {
   "cell_type": "code",
   "execution_count": null,
   "metadata": {},
   "outputs": [],
   "source": []
  },
  {
   "cell_type": "code",
   "execution_count": null,
   "metadata": {},
   "outputs": [],
   "source": []
  }
 ],
 "metadata": {
  "kernelspec": {
   "display_name": "Python 3",
   "language": "python",
   "name": "python3"
  },
  "language_info": {
   "codemirror_mode": {
    "name": "ipython",
    "version": 3
   },
   "file_extension": ".py",
   "mimetype": "text/x-python",
   "name": "python",
   "nbconvert_exporter": "python",
   "pygments_lexer": "ipython3",
   "version": "3.7.6"
  }
 },
 "nbformat": 4,
 "nbformat_minor": 4
}
